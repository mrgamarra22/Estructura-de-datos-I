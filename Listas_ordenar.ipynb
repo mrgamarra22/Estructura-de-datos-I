{
  "nbformat": 4,
  "nbformat_minor": 0,
  "metadata": {
    "colab": {
      "provenance": [],
      "authorship_tag": "ABX9TyPqflODfMzwOOGBaApVVs5T"
    },
    "kernelspec": {
      "name": "python3",
      "display_name": "Python 3"
    },
    "language_info": {
      "name": "python"
    }
  },
  "cells": [
    {
      "cell_type": "markdown",
      "source": [
        "##Ejemplo Lista"
      ],
      "metadata": {
        "id": "4LjcgoqlnsKq"
      }
    },
    {
      "cell_type": "code",
      "execution_count": null,
      "metadata": {
        "id": "3UgBEw98kOqa"
      },
      "outputs": [],
      "source": [
        "class Nodo:\n",
        "    def __init__(self, data = None, next = None):\n",
        "        self.data = data\n",
        "        self.next = next"
      ]
    },
    {
      "cell_type": "code",
      "source": [
        "class Lista_enlazada:\n",
        "    def __init__(self):\n",
        "        self.head = None\n",
        "\n",
        "    # Método para agregar elementos en el frente de la linked list\n",
        "    def agregar_al_inicio(self, data):\n",
        "        #self.head = Nodo(data=data, next=self.head)\n",
        "        nuevo_nodo = Nodo(data)\n",
        "        nuevo_nodo.next = self.head\n",
        "        self.head = nuevo_nodo\n",
        "        #return nuevo_nodo\n",
        "\n",
        "    # Método para verificar si la estructura de datos esta vacia\n",
        "    def is_empty(self):\n",
        "        return self.head == None\n",
        "\n",
        "    # Método para agregar elementos al final de la lista enlazada\n",
        "    def agregar_al_final(self, data):\n",
        "      #Si la lista no existe, entonces se crea\n",
        "        if not self.head:\n",
        "            self.head = Nodo(data=data)\n",
        "            return\n",
        "        #recorre toda la lista hasta llegar al final,\n",
        "        #cuando temporal.next=None\n",
        "        temporal = self.head\n",
        "        while temporal.next:\n",
        "            temporal = temporal.next\n",
        "        #Cuando llega al final de la lista, enlaza el último nodo con\n",
        "        #el nuevo nodo que se crea\n",
        "        temporal.next = Nodo(data=data)\n",
        "\n",
        "    # Método para eleminar nodos\n",
        "    def delete_node(self, key):\n",
        "        actual = self.head\n",
        "        previo = None\n",
        "        #Se busca el dato a eliminar en la lista\n",
        "        while actual and actual.data != key:\n",
        "            previo = actual\n",
        "            actual = actual.next\n",
        "        #Si el dato a eliminar es el primero,\n",
        "        #entonces se reasigna la cabeza de la lista\n",
        "        if previo is None:\n",
        "            self.head = actual.next\n",
        "        elif actual:\n",
        "            previo.next = actual.next\n",
        "            actual.next = None\n",
        "\n",
        "    # Método para obtener el ultimo nodo\n",
        "    def get_last_node(self):\n",
        "        temp = self.head\n",
        "        while(temp.next is not None):\n",
        "            temp = temp.next\n",
        "        return temp.data\n",
        "\n",
        "    # Método para imprimir la lista de nodos\n",
        "    def print_list( self ):\n",
        "        node = self.head\n",
        "        while node != None:\n",
        "            print(node.data, end =\" --> \")\n",
        "            node = node.next\n",
        "\n",
        "    def ordenar_lista(self):\n",
        "        if self.head is None or self.head.next is None:\n",
        "            return\n",
        "\n",
        "        cambiado = True\n",
        "        while cambiado:\n",
        "            cambiado = False\n",
        "            actual = self.head\n",
        "            anterior = None\n",
        "            while actual.next:\n",
        "                siguiente = actual.next\n",
        "                if actual.data < siguiente.data:\n",
        "                    cambiado = True\n",
        "                    if anterior is None:\n",
        "                        self.head = siguiente\n",
        "                    else:\n",
        "                        anterior.next = siguiente\n",
        "                    actual.next = siguiente.next\n",
        "                    siguiente.next = actual\n",
        "                    anterior = siguiente\n",
        "                else:\n",
        "                    anterior = actual\n",
        "                    actual = actual.next\n"
      ],
      "metadata": {
        "id": "evFOk_9zp46-"
      },
      "execution_count": null,
      "outputs": []
    },
    {
      "cell_type": "code",
      "source": [
        "Lista1 =  Lista_enlazada()\n",
        "Lista1.agregar_al_inicio(3)\n",
        "Lista1.agregar_al_final(4)\n",
        "Lista1.agregar_al_final(5)\n",
        "Lista1.agregar_al_final(2)\n",
        "Lista1.print_list()"
      ],
      "metadata": {
        "colab": {
          "base_uri": "https://localhost:8080/"
        },
        "id": "pWG5sHDuql3b",
        "outputId": "295e4a9c-0111-4bc7-fe22-f8ed336d6401"
      },
      "execution_count": null,
      "outputs": [
        {
          "output_type": "stream",
          "name": "stdout",
          "text": [
            "3 --> 4 --> 5 --> 2 --> "
          ]
        }
      ]
    },
    {
      "cell_type": "code",
      "source": [
        "Lista1.ordenar_lista()\n",
        "Lista1.print_list()"
      ],
      "metadata": {
        "colab": {
          "base_uri": "https://localhost:8080/"
        },
        "id": "ANlVLAbQmIfi",
        "outputId": "b81fda94-a8ed-44d6-af05-c2399c95d2ee"
      },
      "execution_count": null,
      "outputs": [
        {
          "output_type": "stream",
          "name": "stdout",
          "text": [
            "5 --> 4 --> 3 --> 2 --> "
          ]
        }
      ]
    },
    {
      "cell_type": "code",
      "source": [
        "Lista1.delete_node(\"BAQ\")\n",
        "Lista1.print_list()\n",
        "Lista1.agregar_al_inicio(\"123\")\n",
        "Lista1.print_list()"
      ],
      "metadata": {
        "colab": {
          "base_uri": "https://localhost:8080/"
        },
        "id": "73OxsScKr2ns",
        "outputId": "e1f818a2-cf05-4a66-d2c4-8e386e358fd0"
      },
      "execution_count": null,
      "outputs": [
        {
          "output_type": "stream",
          "name": "stdout",
          "text": [
            "123 --> Juan --> 23 --> 123 --> 123 --> Juan --> 23 --> "
          ]
        }
      ]
    },
    {
      "cell_type": "code",
      "source": [
        "Lista1.agregar_al_inicio(\"123\")\n",
        "Lista1.print_list()"
      ],
      "metadata": {
        "id": "p7Dj_WqB40wV"
      },
      "execution_count": null,
      "outputs": []
    }
  ]
}